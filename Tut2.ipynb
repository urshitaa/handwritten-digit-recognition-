{
 "cells": [
  {
   "cell_type": "code",
   "execution_count": 8,
   "metadata": {},
   "outputs": [],
   "source": [
    "import pytesseract\n",
    "from PIL import Image  "
   ]
  },
  {
   "cell_type": "code",
   "execution_count": 9,
   "metadata": {},
   "outputs": [],
   "source": [
    "img_file = \"Data/page1.png\"\n",
    "no_noise = \"Data/no_noise.png\""
   ]
  },
  {
   "cell_type": "code",
   "execution_count": 10,
   "metadata": {},
   "outputs": [],
   "source": [
    "img = Image.open(no_noise)"
   ]
  },
  {
   "cell_type": "code",
   "execution_count": 11,
   "metadata": {},
   "outputs": [
    {
     "name": "stdout",
     "output_type": "stream",
     "text": [
      "PREFACE\n",
      "\n",
      "The feeling of having no power over people and events is generally un-\n",
      "bearable to us—-when we feel helpless we feel miserable. No one wants less\n",
      "power, everyone wants more. In the world today, however, it is dangerous\n",
      "to seem too power hungry, to be overt with your power moves. We have\n",
      "to seem fair and decent. So we need to be subtle—congenial yet cunning,\n",
      "democratic yet devious.\n",
      "\n",
      "This game of constant duplicity most resembles the power dynamic\n",
      "that existed in the scheming world of the ald aristocratic court. Throughout\n",
      "history, a court has always formed itself around the person in power—king,\n",
      "queen, emperor, leader. The courtiers who filled this court were in an espe-\n",
      "cially delicate position: They had to serve their masters, but if they seemed\n",
      "to fawn, if they curried favor too obviously, the other courtiers around\n",
      "them would notice and would act against them. Attempts to win the mas-\n",
      "ter’s favor, then, had to be subtle. And even skilled courtiers capable of\n",
      "such subtlety still had to protect themselves from their fellow courtiers,\n",
      "who at all moments were scheming to push them aside.\n",
      "\n",
      "Meanwhile the court was supposed to represent the height of civiliza-\n",
      "tion and refinement. Violent or overt power moves were frowned upon;\n",
      "courtiers would work silently and secretly against any among them who\n",
      "used force. This was the courtier’s dilemma: While appearing the very\n",
      "paragon of elegance, they had to outwit and thwart their own opponents in\n",
      "the subtlest of ways. The successful courtier learned over time to make all\n",
      "of his moves indirect; if he stabbed an opponent in the back, it was with a\n",
      "velvet glove on his hand and the sweetest of smiles on his face. Instead of\n",
      "using coercion or outright treachery, the perfect courtier got his way\n",
      "through seduction, charm, deception, and subtle strategy, always planning\n",
      "several moves ahead. Life in the court was a never-ending game that re-\n",
      "quired constant vigilance and tactical thinking. It was civilized war.\n",
      "\n",
      "Today we face a peculiarly similar paradox to that of the courtier:\n",
      "Everything must appear civilized, decent, democratic, and fair. But if we\n",
      "play by those rules too strictly, if we take them too literally, we are crushed\n",
      "by those around us who are not so foolish. As the great Renaissance diplo-\n",
      "mat and courtier Niccolo Machiavelli wrote, “Any man who tries to be\n",
      "good all the time is bound to come to ruin among the great number who\n",
      "are not good.” The court imagined itself the pinnacle of refinement, but un-\n",
      "\n",
      "PREFACE\n",
      "\n",
      "ret\n",
      "\f\n"
     ]
    }
   ],
   "source": [
    "ocr_result = pytesseract.image_to_string(img)\n",
    "print(ocr_result)"
   ]
  }
 ],
 "metadata": {
  "kernelspec": {
   "display_name": "Python 3",
   "language": "python",
   "name": "python3"
  },
  "language_info": {
   "codemirror_mode": {
    "name": "ipython",
    "version": 3
   },
   "file_extension": ".py",
   "mimetype": "text/x-python",
   "name": "python",
   "nbconvert_exporter": "python",
   "pygments_lexer": "ipython3",
   "version": "3.11.0"
  }
 },
 "nbformat": 4,
 "nbformat_minor": 2
}
